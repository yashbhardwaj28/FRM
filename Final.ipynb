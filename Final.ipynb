{
  "cells": [
    {
      "cell_type": "code",
      "execution_count": 1,
      "metadata": {
        "colab": {
          "base_uri": "https://localhost:8080/"
        },
        "id": "p_XX39RPIHe3",
        "outputId": "16263450-a4a7-470b-c06d-d05a9d51afac"
      },
      "outputs": [
        {
          "name": "stdout",
          "output_type": "stream",
          "text": [
            "Looking in indexes: https://pypi.org/simple, https://us-python.pkg.dev/colab-wheels/public/simple/\n",
            "Collecting pyodbc\n",
            "  Downloading pyodbc-4.0.34-cp37-cp37m-manylinux_2_24_x86_64.whl (472 kB)\n",
            "\u001b[K     |████████████████████████████████| 472 kB 5.0 MB/s \n",
            "\u001b[?25hInstalling collected packages: pyodbc\n",
            "Successfully installed pyodbc-4.0.34\n"
          ]
        }
      ],
      "source": [
        " pip install pyodbc"
      ]
    },
    {
      "cell_type": "code",
      "execution_count": 2,
      "metadata": {
        "id": "xjGXqdShO-nu"
      },
      "outputs": [],
      "source": [
        "import pyodbc\n",
        "from random import *\n",
        "import datetime\n",
        "import pandas as pd"
      ]
    },
    {
      "cell_type": "code",
      "execution_count": 3,
      "metadata": {
        "colab": {
          "base_uri": "https://localhost:8080/"
        },
        "id": "ZxpR5l6OIhky",
        "outputId": "49fcc03b-9ac7-4091-aa94-903a3856a540"
      },
      "outputs": [
        {
          "data": {
            "text/plain": [
              "[]"
            ]
          },
          "execution_count": 3,
          "metadata": {},
          "output_type": "execute_result"
        }
      ],
      "source": [
        "pyodbc.drivers()"
      ]
    },
    {
      "cell_type": "code",
      "execution_count": null,
      "metadata": {},
      "outputs": [],
      "source": [
        "conn = pyodbc.connect('Driver={SQL Server Native Client 11.0};'\n",
        "                      'Server=SB2000LAP7316\\SQLEXPRESS;'\n",
        "                      'Database=FRM;'\n"
      ]
    },
    {
      "cell_type": "code",
      "execution_count": null,
      "metadata": {
        "id": "DJ61rMyTIujF"
      },
      "outputs": [],
      "source": [
        "cursor = conn.cursor()\n",
        "dfcursor.execute('select PAYER_MOB from dbo.may order by S_NO')\n",
        "\n",
        "for i in cursor:\n",
        "    print(i)"
      ]
    },
    {
      "cell_type": "code",
      "execution_count": null,
      "metadata": {
        "id": "kKwasOhYI2OB"
      },
      "outputs": [],
      "source": [
        "query = \"\"\"SELECT PAYER_MOB from dbo.may order by S_NO\"\"\"\n",
        "df = pd.read_sql(query, conn)\n",
        "print(df)"
      ]
    },
    {
      "cell_type": "code",
      "execution_count": null,
      "metadata": {
        "id": "QuOyJTidI7fZ"
      },
      "outputs": [],
      "source": [
        "df.dtypes"
      ]
    },
    {
      "cell_type": "code",
      "execution_count": null,
      "metadata": {
        "id": "M1ER8OecI8zR"
      },
      "outputs": [],
      "source": [
        "df.head()"
      ]
    },
    {
      "cell_type": "code",
      "execution_count": null,
      "metadata": {
        "id": "6b8v7EBsI_ma"
      },
      "outputs": [],
      "source": [
        "df.rename(columns={'PAYER_ACCT_NO':'Payer Account Number ( for DEBIT)','TRAN_DATE_TIME':'Transaction Date Time','AMOUNT':'Amount','Payee Account Number (CREDIT txn and mobile nuber to fetch from':'Payee Account Number (CREDIT txn and mobile nuber to fetch from cbs)','PAYER_ADDRESS':'Payer Address'})\n",
        "df['Payer Account Number ( for DEBIT)']=pd.to_numeric(df['Payer Account Number ( for DEBIT)'])\n",
        "df['Payee Account Number (CREDIT txn and mobile nuber to fetch from cbs)']=pd.to_numeric(df['Payee Account Number (CREDIT txn and mobile nuber to fetch from cbs)'])"
      ]
    },
    {
      "cell_type": "code",
      "execution_count": null,
      "metadata": {
        "id": "YoY8TIQ0mnvT"
      },
      "outputs": [],
      "source": [
        "# df.head()"
      ]
    },
    {
      "cell_type": "code",
      "execution_count": null,
      "metadata": {
        "id": "sUaF2SVMn375"
      },
      "outputs": [],
      "source": [
        "# df.describe()"
      ]
    },
    {
      "cell_type": "code",
      "execution_count": null,
      "metadata": {
        "id": "WtkPNHmaoD18"
      },
      "outputs": [],
      "source": [
        "# df.info()"
      ]
    },
    {
      "cell_type": "code",
      "execution_count": null,
      "metadata": {
        "id": "y2I6pVV5AqGW"
      },
      "outputs": [],
      "source": [
        "df1 = df.loc[df['Transaction Type'] == 'DEBIT']\n",
        "cols = [\"Payer Account Number ( for DEBIT)\",\"Transaction Date Time\",\"Amount\",\"Payee Account Number (CREDIT txn and mobile nuber to fetch from cbs)\", \"Payer Address\"]\n",
        "df1 = df1[cols]\n",
        "df1 = df1.set_index('Payer Account Number ( for DEBIT)')\n",
        "df1.head()"
      ]
    },
    {
      "cell_type": "code",
      "execution_count": null,
      "metadata": {
        "id": "sBBykY7BnBlJ"
      },
      "outputs": [],
      "source": [
        "def getRecent(sdf):\n",
        "  try:\n",
        "    return sdf[\"Transaction Date Time\"].iloc[-1]\n",
        "  except:\n",
        "    return sdf[\"Transaction Date Time\"]\n",
        "def getRecentAcc_no(sdf):\n",
        "  try:\n",
        "    return sdf[\"Payee Account Number (CREDIT txn and mobile nuber to fetch from cbs)\"].iloc[-1]\n",
        "  except:\n",
        "    return sdf[\"Payee Account Number (CREDIT txn and mobile nuber to fetch from cbs)\"]\n",
        "def getAddress(sdf):\n",
        "  d = dict()\n",
        "  try:\n",
        "    max=0\n",
        "    for i in sdf['Payer Address']:\n",
        "      upi = i.split('@')[1]\n",
        "      try:\n",
        "        d[upi]+=1\n",
        "        max=max(d[upi],max)\n",
        "      except:\n",
        "        d[upi]=1\n",
        "        max=max(d[upi],max)\n",
        "  except:\n",
        "    pass\n",
        "  d[\"max_recent_freq\"]=max\n",
        "  return str(d)\n",
        "def TimeSlot(sdf, start, end):\n",
        "    ct = 0\n",
        "    try:\n",
        "      for i in sdf['Transaction Date Time']:\n",
        "        time = i.time()\n",
        "        if time>=start and time<=end:\n",
        "          ct += 1\n",
        "    except:\n",
        "      pass\n",
        "    return ct\n",
        "def AmountSlot(sdf, minimum, maximum):\n",
        "  ct = 0\n",
        "  try:\n",
        "    for i in sdf['Amount']:\n",
        "      if i>=minimum and i<=maximum:\n",
        "        ct += 1\n",
        "  except:\n",
        "    pass\n",
        "  return ct"
      ]
    },
    {
      "cell_type": "code",
      "execution_count": null,
      "metadata": {
        "id": "wR23TPv6Jtdi"
      },
      "outputs": [],
      "source": [
        "def getData(sdf, unique_acc):\n",
        "  res = [unique_acc]\n",
        "  \n",
        "  maxi=0\n",
        "  start = datetime.time(0, 0, 0)\n",
        "  end = datetime.time(3, 59, 59)\n",
        "  v=TimeSlot(sdf, start, end)\n",
        "  maxi=max(maxi,v)\n",
        "  res.append(v)\n",
        "\n",
        "  start = datetime.time(4, 0, 0)\n",
        "  end = datetime.time(7, 59, 59)\n",
        "  v=TimeSlot(sdf, start, end)\n",
        "  maxi=max(maxi,v)\n",
        "  res.append(v)\n",
        "\n",
        "  start = datetime.time(8, 0, 0)\n",
        "  end = datetime.time(11, 59, 59)\n",
        "  v=TimeSlot(sdf, start, end)\n",
        "  maxi=max(maxi,v)\n",
        "  res.append(v)\n",
        "\n",
        "  start = datetime.time(12, 0, 0)\n",
        "  end = datetime.time(15, 59, 59)\n",
        "  v=TimeSlot(sdf, start, end)\n",
        "  maxi=max(maxi,v)\n",
        "  res.append(v)\n",
        "\n",
        "  start = datetime.time(16, 0, 0)\n",
        "  end = datetime.time(19, 59, 59)\n",
        "  res.append(TimeSlot(sdf, start, end))\n",
        "  maxi=max(maxi,TimeSlot(sdf, start, end))\n",
        "\n",
        "  start = datetime.time(20, 0, 0)\n",
        "  end = datetime.time(23, 59, 59)\n",
        "  v=TimeSlot(sdf, start, end)\n",
        "  maxi=max(maxi,v)\n",
        "  res.append(v)\n",
        "\n",
        "  res.append(maxi)\n",
        "  maxi=0\n",
        "\n",
        "  for i in range(0, 100000, 5000):\n",
        "    minimum = i\n",
        "    maximum = i+4999\n",
        "    v=AmountSlot(sdf, minimum, maximum)\n",
        "    maxi=max(maxi,v)\n",
        "    res.append(v)\n",
        "\n",
        "  res.append(maxi)\n",
        "  address=getAddress(sdf)\n",
        "  maxpayee=address[\"max_recent_freq\"]\n",
        "  for key in address:\n",
        "    address[key]=10.0-((10.0/maxpayee)*address[key])\n",
        "  del address['max_recent_freq']\n",
        "  res.append(address)\n",
        "  res.append(getRecent(sdf))\n",
        "  res.append(getRecentAcc_no(sdf))\n",
        "\n",
        "  maxtime=res[7]\n",
        "  maxamount=res[28]\n",
        "  for i in range(1,7):\n",
        "    res[i]=10.0-((10.0/maxtime)*res[i])\n",
        "  \n",
        "  for i in range (8,28):\n",
        "    res[i]=10.0-((10.0/maxamount)*res[i])\n",
        "\n",
        "  return res"
      ]
    },
    {
      "cell_type": "code",
      "execution_count": null,
      "metadata": {
        "id": "6zuU_jRGHnle"
      },
      "outputs": [],
      "source": [
        "ct=0\n",
        "mdf = pd.DataFrame(columns=['Payer Account Number', 'TimeSlot1', 'TimeSlot2', 'TimeSlot3', 'TimeSlot4', 'TimeSlot5', 'TimeSlot6','maxtimefreq', 'Amount1', 'Amount2', 'Amount3', 'Amount4', 'Amount5', 'Amount6', 'Amount7', 'Amount8', 'Amount9', 'Amount10', 'Amount11', 'Amount12', 'Amount13', 'Amount14', 'Amount15', 'Amount16', 'Amount17', 'Amount18', 'Amount19', 'Amount20','maxamountfreq', 'UPI', 'Recent Transaction', 'Last Payee Account Number'])\n",
        "\n",
        "for unique_acc in df1.index.unique():\n",
        "  sdf = df1.loc[unique_acc]\n",
        "  mdf.loc[ct] = getData(sdf, unique_acc)\n",
        "  ct += 1"
      ]
    },
    {
      "cell_type": "code",
      "execution_count": null,
      "metadata": {
        "id": "ReT8FophMFL5"
      },
      "outputs": [],
      "source": [
        "mdf.head()"
      ]
    },
    {
      "cell_type": "code",
      "execution_count": null,
      "metadata": {
        "id": "OmHUYleXY7c1"
      },
      "outputs": [],
      "source": []
    },
    {
      "cell_type": "code",
      "execution_count": null,
      "metadata": {
        "id": "b78GoAMnvxKo"
      },
      "outputs": [],
      "source": [
        "def Time(sdf):\n",
        "  d = dict()\n",
        "  base = 'TimeSlot'\n",
        "  times = []\n",
        "  for i in range(1, 7, 1):\n",
        "    time = sdf[base+str(i)]\n",
        "    times.append(time)\n",
        "  \n",
        "  times.sort(reverse=True)\n",
        "\n",
        "  res = []\n",
        "  \n",
        "  for i in range(0, 6):\n",
        "    diff = times[0]-times[i]\n",
        "    res.append(diff)\n",
        "  \n",
        "  return str(res)"
      ]
    },
    {
      "cell_type": "code",
      "execution_count": null,
      "metadata": {
        "id": "8ORcaip0U5YK"
      },
      "outputs": [],
      "source": [
        "sdf = mdf.iloc[10]\n",
        "Time(sdf)"
      ]
    },
    {
      "cell_type": "code",
      "execution_count": null,
      "metadata": {
        "id": "E82NfvknU6Zv"
      },
      "outputs": [],
      "source": [
        "mdf.iloc[10]"
      ]
    },
    {
      "cell_type": "code",
      "execution_count": null,
      "metadata": {
        "id": "P4ueCoeZ8YMf"
      },
      "outputs": [],
      "source": [
        "mdf = mdf.set_index('Payer Account Number')"
      ]
    },
    {
      "cell_type": "code",
      "execution_count": null,
      "metadata": {
        "id": "k_InM4YPnoSS"
      },
      "outputs": [],
      "source": [
        "mdf1=pd.DataFrame(columns=['Payer Account Number', 'TimeSlot1', 'TimeSlot2', 'TimeSlot3', 'TimeSlot4', 'TimeSlot5', 'TimeSlot6','Amount1', 'Amount2', 'Amount3', 'Amount4', 'Amount5', 'Amount6', 'Amount7', 'Amount8', 'Amount9', 'Amount10', 'Amount11', 'Amount12', 'Amount13', 'Amount14', 'Amount15', 'Amount16', 'Amount17', 'Amount18', 'Amount19', 'Amount20', 'UPI', 'Recent Transaction', 'Last Payee Account Number'])"
      ]
    },
    {
      "cell_type": "code",
      "execution_count": null,
      "metadata": {
        "id": "a5FOzlrJWQsO"
      },
      "outputs": [],
      "source": [
        "def get_score(acc_no,amount,payee_acc_num,payer_address):\n",
        "  payer_address=payer_address.split('@')[1]\n",
        "  #try and catch block to check whether the payer account number is present in our database or not\n",
        "  tdf=None\n",
        "  try:\n",
        "    tdf=mdf.loc[acc_no]\n",
        "  except Exception as e:\n",
        "    print(\"Account number is not present in the database\")\n",
        "    return 299\n",
        "\n",
        "  score=0\n",
        "\n",
        "  \n",
        "  #To generate score for frequency corresponding to the given payee account number\n",
        "  last=tdf[\"Recent Transaction\"]\n",
        "  last=str(last).split('.')[0]\n",
        "  last=datetime.datetime.strptime(str(last), '%Y-%m-%d %H:%M:%S')\n",
        "  last_payee=tdf[\"Last Payee Account Number\"]\n",
        "  now=datetime.datetime.now()\n",
        "  curr_time=now.time()\n",
        "  d=now-last\n",
        "  if d.days==0:\n",
        "    time_diff=d.seconds//60\n",
        "    if time_diff<=4 and payee_acc_num==last_payee:\n",
        "      score=20 \n",
        "      print(\"Last transaction was made to the same account number within 4 minutes!!!\")\n",
        "    else:\n",
        "      score=2.25\n",
        "\n",
        "  #To generate the score for payer address\n",
        "  upi=eval(tdf[\"UPI\"])\n",
        "  if payer_address in upi:\n",
        "    v=upi.get(payer_address)\n",
        "    maximum=upi.get('max_recent_freq')\n",
        "    s=10.0-((10.0/maximum)*v)\n",
        "    score+=s\n",
        "  else:\n",
        "    print(\"Payer address is not present in the database\")\n",
        "    score+=10.0 #generating very high score because payer address is not present corresponding to the payer account number\n",
        "  \n",
        "  #To generate score for time slot\n",
        "  timeslot=\"TimeSlot\"\n",
        "  now=datetime.datetime.now()\n",
        "  curr_time=now.time()\n",
        "  if curr_time>=datetime.time(0, 0, 0) and curr_time<=datetime.time(3, 59, 59):\n",
        "    timeslot=\"TimeSlot1\"\n",
        "  elif curr_time>=datetime.time(4, 0, 0) and curr_time<=datetime.time(7, 59, 59):\n",
        "    timeslot=\"TimeSlot2\"\n",
        "  elif curr_time>=datetime.time(8, 0, 0) and curr_time<=datetime.time(11, 59, 59):\n",
        "    timeslot=\"TimeSlot3\"\n",
        "  elif curr_time>=datetime.time(12, 0, 0) and curr_time<=datetime.time(15, 59, 59):\n",
        "    timeslot=\"TimeSlot4\"\n",
        "  elif curr_time>=datetime.time(16, 0, 0) and curr_time<=datetime.time(19, 59, 59):\n",
        "    timeslot=\"TimeSlot5\"\n",
        "  else:\n",
        "    timeslot=\"TimeSlot6\"\n",
        "  \n",
        "  timeslot1=tdf[timeslot]\n",
        "  maximum=tdf[\"maxtimefreq\"]\n",
        "  s=10.0-((10.0/maximum)*timeslot1)\n",
        "  score+=s\n",
        "  if timeslot1==0:\n",
        "    print(\"Out of normal transaction timing habit!!!\")\n",
        "  \n",
        "  #To generate score for amount slot\n",
        "  amountslot=\"Amount\"\n",
        "  k=0\n",
        "  for i in range(0, 100000, 5000):\n",
        "    minimum = i\n",
        "    maximum = i+4999\n",
        "    k=k+1\n",
        "    if amount>=minimum and amount<=maximum:\n",
        "      amountslot=amountslot+str(k)\n",
        "      break\n",
        "  amountslot1=tdf[amountslot]\n",
        "  maximum=tdf[\"maxamountfreq\"]\n",
        "  s=10.0-((10.0/maximum)*amountslot1)\n",
        "  score+=s\n",
        "  if amountslot1==0:\n",
        "    print(\"Out of normal transaction amount habit!!!\")\n",
        "\n",
        "  # updating the value of recent transaction date time and payee account number\n",
        "  tdf[\"Recent Transaction\"]=str(now)\n",
        "  tdf[\"Last Payee Account Number\"]=payee_acc_num\n",
        "  mdf.loc[acc_no]=tdf\n",
        "\n",
        "  return score\n"
      ]
    },
    {
      "cell_type": "code",
      "execution_count": null,
      "metadata": {
        "id": "yFm-pFxRq9Hr"
      },
      "outputs": [],
      "source": [
        "print(get_score(100112250233,250,20148987029,\"8130528356@hbd\"))"
      ]
    },
    {
      "cell_type": "code",
      "execution_count": null,
      "metadata": {
        "id": "gon8xGAWCfXT"
      },
      "outputs": [],
      "source": [
        "ab=mdf.loc[100112250233]\n",
        "print(ab)"
      ]
    },
    {
      "cell_type": "code",
      "execution_count": null,
      "metadata": {
        "id": "rVHuL8FWPeGr"
      },
      "outputs": [],
      "source": [
        "mdf.to_pickle(\"./dummy.pkl\")"
      ]
    }
  ],
  "metadata": {
    "colab": {
      "collapsed_sections": [],
      "name": "15_07_2022.ipynb",
      "provenance": []
    },
    "kernelspec": {
      "display_name": "Python 3.10.5 64-bit (windows store)",
      "language": "python",
      "name": "python3"
    },
    "language_info": {
      "name": "python",
      "version": "3.10.5"
    },
    "vscode": {
      "interpreter": {
        "hash": "ad5e16469deff31d5a1fac54aa74ca9a2615bd31f1f078be6b5f46d81de3cc2c"
      }
    }
  },
  "nbformat": 4,
  "nbformat_minor": 0
}
